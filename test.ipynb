{
 "cells": [
  {
   "cell_type": "code",
   "execution_count": null,
   "metadata": {},
   "outputs": [],
   "source": [
    "pip install opencv-python\n",
    "pip install numpy\n",
    "pip install matplotlib"
   ]
  },
  {
   "cell_type": "code",
   "execution_count": null,
   "metadata": {},
   "outputs": [],
   "source": [
    "# Python code to read image\n",
    "import cv2\n",
    "\n",
    "# To read image from disk, we use\n",
    "# cv2.imread function, in below method,\n",
    "img = cv2.imread(\"geeksforgeeks.png\", cv2.IMREAD_COLOR)\n",
    "\n",
    "# Creating GUI window to display an image on screen\n",
    "# first Parameter is windows title (should be in string format)\n",
    "# Second Parameter is image array\n",
    "cv2.imshow(\"image\", img)\n",
    "\n",
    "# To hold the window on screen, we use cv2.waitKey method\n",
    "# Once it detected the close input, it will release the control\n",
    "# To the next line\n",
    "# First Parameter is for holding screen for specified milliseconds\n",
    "# It should be positive integer. If 0 pass an parameter, then it will\n",
    "# hold the screen until user close it.\n",
    "cv2.waitKey(0)\n",
    "\n",
    "# It is for removing/deleting created GUI window from screen\n",
    "# and memory\n",
    "cv2.destroyAllWindows()"
   ]
  },
  {
   "cell_type": "code",
   "execution_count": null,
   "metadata": {},
   "outputs": [],
   "source": [
    "# Python program to explain cv2.imwrite() method\n",
    "\n",
    "# importing os module  \n",
    "import os\n",
    "\n",
    "# Image path\n",
    "image_path = r'C:\\Users\\Rajnish\\Desktop\\GeeksforGeeks\\geeks.png'\n",
    "\n",
    "# Image directory\n",
    "directory = r'C:\\Users\\Rajnish\\Desktop\\GeeksforGeeks'\n",
    "\n",
    "# Using cv2.imread() method\n",
    "# to read the image\n",
    "img = cv2.imread(image_path)\n",
    "\n",
    "# Change the current directory \n",
    "# to specified directory \n",
    "os.chdir(directory)\n",
    "\n",
    "# List files and directories  \n",
    "# in 'C:/Users/Rajnish/Desktop/GeeksforGeeks'  \n",
    "print(\"Before saving image:\")  \n",
    "print(os.listdir(directory))  \n",
    "\n",
    "# Filename\n",
    "filename = 'savedImage.jpg'\n",
    "\n",
    "# Using cv2.imwrite() method\n",
    "# Saving the image\n",
    "cv2.imwrite(filename, img)\n",
    "\n",
    "# List files and directories  \n",
    "# in 'C:/Users / Rajnish / Desktop / GeeksforGeeks'  \n",
    "print(\"After saving image:\")  \n",
    "print(os.listdir(directory))\n",
    "\n",
    "print('Successfully saved')"
   ]
  }
 ],
 "metadata": {
  "language_info": {
   "name": "python"
  }
 },
 "nbformat": 4,
 "nbformat_minor": 2
}
